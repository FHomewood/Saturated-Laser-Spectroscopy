{
 "cells": [
  {
   "cell_type": "code",
   "execution_count": 1,
   "metadata": {},
   "outputs": [
    {
     "data": {
      "application/javascript": [
       "IPython.OutputArea.prototype._should_scroll = function(lines) {return false;}"
      ],
      "text/plain": [
       "<IPython.core.display.Javascript object>"
      ]
     },
     "metadata": {},
     "output_type": "display_data"
    }
   ],
   "source": [
    "%%javascript\n",
    "IPython.OutputArea.prototype._should_scroll = function(lines) {return false;}"
   ]
  },
  {
   "cell_type": "code",
   "execution_count": 32,
   "metadata": {
    "scrolled": false
   },
   "outputs": [
    {
     "data": {
      "application/vnd.jupyter.widget-view+json": {
       "model_id": "569573e4f0774d58a0e4fec29a8b39d1",
       "version_major": 2,
       "version_minor": 0
      },
      "text/html": [
       "<p>Failed to display Jupyter Widget of type <code>interactive</code>.</p>\n",
       "<p>\n",
       "  If you're reading this message in the Jupyter Notebook or JupyterLab Notebook, it may mean\n",
       "  that the widgets JavaScript is still loading. If this message persists, it\n",
       "  likely means that the widgets JavaScript library is either not installed or\n",
       "  not enabled. See the <a href=\"https://ipywidgets.readthedocs.io/en/stable/user_install.html\">Jupyter\n",
       "  Widgets Documentation</a> for setup instructions.\n",
       "</p>\n",
       "<p>\n",
       "  If you're reading this message in another frontend (for example, a static\n",
       "  rendering on GitHub or <a href=\"https://nbviewer.jupyter.org/\">NBViewer</a>),\n",
       "  it may mean that your frontend doesn't currently support widgets.\n",
       "</p>\n"
      ],
      "text/plain": [
       "interactive(children=(Text(value='Broadened', description='folder'), Output()), _dom_classes=('widget-interact',))"
      ]
     },
     "metadata": {},
     "output_type": "display_data"
    },
    {
     "data": {
      "text/plain": [
       "<function __main__.main>"
      ]
     },
     "execution_count": 32,
     "metadata": {},
     "output_type": "execute_result"
    }
   ],
   "source": [
    "#Libraries\n",
    "import os\n",
    "from __future__ import print_function\n",
    "from ipywidgets import interact, interactive, fixed, interact_manual\n",
    "import ipywidgets as widgets\n",
    "import csv\n",
    "from numpy import *\n",
    "from matplotlib.pyplot import *\n",
    "from scipy import optimize\n",
    "\n",
    "filepath = 'D:\\\\Sussex\\\\Year 3\\\\Advanced Physics Laboratory\\\\Laser Spectroscopy\\\\'\n",
    "\n",
    "#Define Functions\n",
    "def Bound(x,a,b):\n",
    "    high = max(a,b)\n",
    "    low = min(a,b)\n",
    "    if(x<low):return low\n",
    "    if(x>high):return high\n",
    "    return x\n",
    "def gaussian(x,n0,n1,n2):\n",
    "    return (n2/(n0*sqrt(2*pi))*exp((x-n1)**2/(-2*n0**2))),0\n",
    "def FourGaussians(x,A,B,a0,a1,a2,b0,b1,b2,c0,c1,c2,d0,d1,d2):\n",
    "    return A+B*x+sum([gaussian(x,*i) for i in [[a0,a1,a2],[b0,b1,b2],[c0,c1,c2],[d0,d1,d2]]])\n",
    "\n",
    "#Identify Filepath\n",
    "def main(folder):\n",
    "    def update(file,plotEst,plotFit,plotLabels,Intercept,Gradient,\n",
    "                                       P1_Deviation,P1_Mean,P1_Amplitude,\n",
    "                                       P2_Deviation,P2_Mean,P2_Amplitude,\n",
    "                                       P3_Deviation,P3_Mean,P3_Amplitude,\n",
    "                                       P4_Deviation,P4_Mean,P4_Amplitude,\n",
    "              FPI_1, FPI_2, Num_FPI,FPI_Freq):\n",
    "\n",
    "        csvPath = filepath + 'Oscilloscope Trace Files\\\\' +folder + '\\\\'+ file\n",
    "        savePath= filepath + 'Python Images\\\\'\n",
    "\n",
    "        #Open .csv File\n",
    "        print (\"opening : \\n\" + csvPath)\n",
    "        datafile = open(csvPath, 'r');\n",
    "        datareader = csv.reader(datafile, delimiter=',');\n",
    "        print(\"Reader Established\")\n",
    "        sheet = [];\n",
    "\n",
    "        #Convert nested 'File' into arrays\n",
    "        for row in datareader:\n",
    "            sheet.append(row);\n",
    "        CH1_y = [float(i[ 4]) * float(sheet[8][1]) + float(sheet[9][1]) for i in sheet]\n",
    "        CH1_x = [float(i[ 3]) * float(sheet[11][1]) for i in sheet]\n",
    "        CH2_y = [float(i[10]) * float(sheet[8][7]) + float(sheet[9][7]) for i in sheet]\n",
    "        CH2_x = [float(i[ 9]) * float(sheet[11][7]) for i in sheet]\n",
    "        \n",
    "        CH1_x = [(i-float(FPI_1)) * (float(FPI_Freq) * float(Num_FPI)) /(float(FPI_2) - float(FPI_1)) for i in CH1_x]\n",
    "        CH2_x = [(i-float(FPI_1)) * (float(FPI_Freq) * float(Num_FPI)) /(float(FPI_2) - float(FPI_1)) for i in CH2_x]\n",
    "        Min = min(CH1_x)\n",
    "        Max = max(CH1_x)\n",
    "        print(Min,Max)\n",
    "        Iargs = [float(Intercept),float(Gradient),\n",
    "                 float(P1_Deviation),Bound(float(P1_Mean),Min,Max),float(P1_Amplitude),\n",
    "                 float(P2_Deviation),Bound(float(P2_Mean),Min,Max),float(P2_Amplitude),\n",
    "                 float(P3_Deviation),Bound(float(P3_Mean),Min,Max),float(P3_Amplitude),\n",
    "                 float(P4_Deviation),Bound(float(P4_Mean),Min,Max),float(P4_Amplitude)]\n",
    "        args = Iargs\n",
    "        \n",
    "        IME = sum([(i-FourGaussians(j,*args ))**2 for i,j in zip(CH1_y,CH1_x)])/(len(CH1_y)- len(args))\n",
    "        for i in range(1):\n",
    "            args, cova = optimize.curve_fit(FourGaussians,CH1_x,CH1_y, p0=args\n",
    "                        ,bounds = (\n",
    "                            #lower bounds\n",
    "                            [-inf,-inf,\n",
    "                             0,Min,0,\n",
    "                             0.0001,Min,0.000001,\n",
    "                             0.0001,Min,0.000001,\n",
    "                             0.0001,Min,0.000001],\n",
    "                            #upper bounds\n",
    "                            [inf,inf,\n",
    "                             inf,Max,inf,\n",
    "                             inf,Max,inf,\n",
    "                             inf,Max,inf,\n",
    "                             inf,Max,inf])\n",
    "                                           )\n",
    "        errorlist = sqrt(diag(cova))\n",
    "        ME = sum([(i-FourGaussians(j,*args ))**2 for i,j in zip(CH1_y,CH1_x)])/(len(CH1_y)- len(args))\n",
    "        fig = figure(num=None,figsize = (10,10), dpi = 200)\n",
    "        plot(CH1_x, CH1_y,color = \"darkorange\", linewidth = 0.8, label= \"Channel 1\") #Raw Data\n",
    "        plot(CH2_x, CH2_y,color = \"lightskyblue\", linewidth = 0.5,label= \"Channel 2\") #Raw Data\n",
    "        k = linspace(min(CH1_x), max(CH1_x),512)\n",
    "        if (plotFit): plot(k, FourGaussians(k,*args ),c='orchid' , linewidth = 0.8,label = \"Fitted Model\") #Curve Fit\n",
    "        if (plotEst): plot(k, FourGaussians(k,*Iargs),c='magenta', linewidth = 0.8,label = \"Initial Estimate\") #Initial Estimate\n",
    "        grid()\n",
    "        legend()\n",
    "        \n",
    "        \n",
    "        \n",
    "        if(plotLabels):\n",
    "            #Stolen from StackExchange\n",
    "            peaks = [args[3],args[6],args[9],args[12]]\n",
    "            peaks.sort()\n",
    "            peakModels = [FourGaussians(float(i),*args) for i in peaks]\n",
    "\n",
    "            labels = [r'$^{87}$Rb F$_g=2$',r'$^{85}$Rb $F_g=3$',r'$^{85}$Rb F$_g=2$',r'$^{87}$Rb F$_g=1$']\n",
    "            scatter(peaks, peakModels, marker='x', c = 'k')\n",
    "            for label, x, y in zip(labels, peaks, peakModels):\n",
    "                annotate(label, xy=(x, y), xytext=(0, 5), textcoords='offset points', ha='center', va='bottom')\n",
    "\n",
    "    \n",
    "        show()\n",
    "        print( \"Estimated Background : {:+.2e}\" .format(args[0]) + \n",
    "                                  \" +- {:.2e}, \".format(errorlist[0]))\n",
    "        print( \"Estimated Gradient   : {:+.2e}\" .format(args[1]) +\n",
    "                                  \" +- {:.2e}, \".format(errorlist[1]))\n",
    "        print( \"Peak #1 Amplitude    : {:+.2e}\" .format(args[4]) + \n",
    "                                  \" +- {:.2e}, \".format(errorlist[4]) + \n",
    "               \"Position : {:+.2e}\"             .format(args[3]) + \n",
    "                                  \" +- {:.2e}, \".format(errorlist[3]) + \n",
    "               \"Deviation : {:+.2e}\"            .format(args[2]) + \n",
    "                                \"  +-  {:.2e}, \".format(errorlist[2]))\n",
    "        print( \"Peak #2 Amplitude    : {:+.2e}\" .format(args[7]) + \n",
    "                                  \" +- {:.2e}, \".format(errorlist[7]) + \n",
    "               \"Position : {:+.2e}\"             .format(args[6]) + \n",
    "                                  \" +- {:.2e}, \".format(errorlist[6]) + \n",
    "               \"Deviation : {:+.2e}\"            .format(args[5]) + \n",
    "                                \"  +-  {:.2e}, \".format(errorlist[5]))\n",
    "        print( \"Peak #3 Amplitude    : {:+.2e}\" .format(args[10]) + \n",
    "                                  \" +- {:.2e}, \".format(errorlist[10]) + \n",
    "               \"Position : {:+.2e}\"             .format(args[9]) + \n",
    "                                  \" +- {:.2e}, \".format(errorlist[9]) + \n",
    "               \"Deviation : {:+.2e}\"            .format(args[8]) + \n",
    "                                \"  +-  {:.2e}, \".format(errorlist[8]))\n",
    "        print( \"Peak #4 Amplitude    : {:+.2e}\" .format(args[13]) + \n",
    "                                  \" +- {:.2e}, \".format(errorlist[13]) + \n",
    "               \"Position : {:+.2e}\"             .format(args[12]) + \n",
    "                                  \" +- {:.2e}, \".format(errorlist[12]) + \n",
    "               \"Deviation : {:+.2e}\"            .format(args[11]) + \n",
    "                                \"  +-  {:.2e}, \".format(errorlist[11]))\n",
    "        print(\"\\n \\n Initial Mean Error = \" + str(IME))\n",
    "        print(\"         Mean Error = \" + str( ME))\n",
    "        return \n",
    "    interact(update,\n",
    "         file = os.listdir(filepath + 'Oscilloscope Trace Files\\\\' + folder),\n",
    "         plotEst      = False,\n",
    "         plotFit      = False,\n",
    "         plotLabels   = False,\n",
    "         Intercept        = \"0\",\n",
    "         Gradient         = \"0\",\n",
    "\n",
    "         P1_Deviation     = \"1.59e-03\",\n",
    "         P1_Mean          = \"2800\",\n",
    "         P1_Amplitude     = \"1.69e-02\",\n",
    "\n",
    "         P2_Deviation     = \"1.75e-03\",\n",
    "         P2_Mean          = \"3950\",\n",
    "         P2_Amplitude     = \"2.61e-02\",\n",
    "\n",
    "         P3_Deviation     = \"1.47e-03\",\n",
    "         P3_Mean          = \"6700\",\n",
    "         P3_Amplitude     = \"1.44e-02\",\n",
    "             \n",
    "         P4_Deviation     = \"1.41e-03\",\n",
    "         P4_Mean          = \"9400\",\n",
    "         P4_Amplitude     = \"5.32e-03\",\n",
    "             \n",
    "         FPI_1            = \"0.0031365\",\n",
    "         FPI_2            = \"0.0021540\",\n",
    "         Num_FPI          = \"34\",\n",
    "         FPI_Freq         = \"380\"\n",
    "        )\n",
    "    return \n",
    "interact(main,\n",
    "         folder = os.listdir(filepath + 'Oscilloscope Trace Files')[0])"
   ]
  },
  {
   "cell_type": "code",
   "execution_count": null,
   "metadata": {
    "collapsed": true
   },
   "outputs": [],
   "source": []
  }
 ],
 "metadata": {
  "kernelspec": {
   "display_name": "Python 3",
   "language": "python",
   "name": "python3"
  },
  "language_info": {
   "codemirror_mode": {
    "name": "ipython",
    "version": 3
   },
   "file_extension": ".py",
   "mimetype": "text/x-python",
   "name": "python",
   "nbconvert_exporter": "python",
   "pygments_lexer": "ipython3",
   "version": "3.6.4"
  }
 },
 "nbformat": 4,
 "nbformat_minor": 2
}
